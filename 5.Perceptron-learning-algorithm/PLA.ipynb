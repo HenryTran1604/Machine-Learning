{
 "cells": [
  {
   "cell_type": "markdown",
   "id": "3c7b1fe3",
   "metadata": {},
   "source": [
    "# Thuật toán PLA\n",
    "1. Chọn ngẫu nhiên một vector hệ số `w` với các phần tử gần 0\n",
    "2. Duyệt ngẫu nhiên qua từng điểm dữ liệu $x_i$\n",
    "    1. Nếu $x_i$ được phân lớp đúng, tức $sgn(w^Tx_i) = y_i$ chúng ta không cần làm gì.\n",
    "    2. Nếu $x_i$ bị misclassifed, cập nhật `w` theo công thức: $$w = w + y_i.x_i$$\n",
    "3. Kiểm tra xem có bao nhiêu điểm bị misclassifed. Nếu không còn điểm nào, dừng thuật toán. Nếu còn, quay lại bước 2."
   ]
  },
  {
   "cell_type": "markdown",
   "id": "2980f59c",
   "metadata": {},
   "source": [
    "\\begin{eqnarray}\n",
    "f_{\\mathbf{w}}(\\mathbf{x}) &=& w_1x_1 + \\dots + w_dx_d + w_0 \\newline \n",
    "&=&\\mathbf{w}^T\\mathbf{\\bar{x}} = 0\n",
    "\\end{eqnarray}"
   ]
  },
  {
   "cell_type": "code",
   "execution_count": 1,
   "id": "2752b1cb",
   "metadata": {},
   "outputs": [],
   "source": [
    "import numpy as np\n",
    "import matplotlib.pyplot as plt\n",
    "from scipy.spatial.distance import cdist"
   ]
  },
  {
   "cell_type": "markdown",
   "id": "3fa452e1",
   "metadata": {},
   "source": [
    "## Tạo dữ liệu"
   ]
  },
  {
   "cell_type": "code",
   "execution_count": 2,
   "id": "98b97bda",
   "metadata": {},
   "outputs": [
    {
     "data": {
      "text/plain": [
       "(3, 20)"
      ]
     },
     "execution_count": 2,
     "metadata": {},
     "output_type": "execute_result"
    }
   ],
   "source": [
    "np.random.seed(2)\n",
    "means = [[2, 2], [4, 2]]\n",
    "cov = [[.3, .2], [.2, .3]]\n",
    "N = 10\n",
    "X0 = np.random.multivariate_normal(means[0], cov, N).T\n",
    "X1 = np.random.multivariate_normal(means[1], cov, N).T\n",
    "X = np.concatenate((X0, X1), axis=1)\n",
    "X = np.vstack((np.ones((1, 2*N)), X))\n",
    "y = np.concatenate((np.ones((1, N)), -1*np.ones((1, N))), axis=1)\n",
    "X.shape"
   ]
  },
  {
   "cell_type": "markdown",
   "id": "be51cf29",
   "metadata": {},
   "source": [
    "Ở bài này, X là ma trận cột (các điểm là cột)"
   ]
  },
  {
   "cell_type": "code",
   "execution_count": 3,
   "id": "f9ff3968",
   "metadata": {},
   "outputs": [],
   "source": [
    "def h(w, x): # Tính đầu ra khi biết x, w (tính dấu)\n",
    "    return np.sign(np.dot(w.T, x))\n",
    "def has_converged(X, y, w): # Kiểm tra là đã hội tụ hay chưa\n",
    "    return np.array_equal(h(w, X), y) # so sánh nhãn sau khi test và y thực tế\n",
    "def perceptron(X, y, w_init):\n",
    "    w = w_init\n",
    "    d, N = X.shape\n",
    "    mis_points = []\n",
    "    while True:\n",
    "        mix_id = np.random.permutation(N) # hoán vị ngẫu nhiên từ 0 đến N-1\n",
    "        for i in range(N):\n",
    "            xi = X[:, mix_id[i]].reshape(d, 1) # chính là điểm xi\n",
    "            yi = y[0, mix_id[i]] # nhãn thực tế của điểm xi\n",
    "            if h(w, xi)[0] != yi: # Nếu tính toán ra thực tế mà không giốn thực tế -> Điểm lỗi\n",
    "                mis_points.append(mix_id[i])\n",
    "                w = w + yi*xi # cập nhật lại w\n",
    "        if has_converged(X, y, w):\n",
    "            break\n",
    "    return (w, mis_points)"
   ]
  },
  {
   "cell_type": "code",
   "execution_count": 4,
   "id": "fa3c44a6",
   "metadata": {},
   "outputs": [
    {
     "name": "stdout",
     "output_type": "stream",
     "text": [
      "[[ 3.6864918 ]\n",
      " [-4.08776229]\n",
      " [ 4.1502239 ]] 18\n"
     ]
    }
   ],
   "source": [
    "d = X.shape[0]\n",
    "w_init = np.random.randn(d, 1) # tạo ra mảng dx1 theo phân phối chuẩn kích thước bằng kích thước xi\n",
    "(w, m) = perceptron(X, y, w_init)\n",
    "print(w, len(m))"
   ]
  },
  {
   "cell_type": "markdown",
   "id": "14ca6935",
   "metadata": {},
   "source": [
    "$$w_1.x_1 + w_2.x_2 + w_0 = 0$$\n",
    "$$if (w_1 \\neq 0):\n",
    "x_1 = -\\frac{w_2}{w_1}.x_2 - \\frac{w_0}{w_1}$$\n",
    "$$else: x_2 = -\\frac{w_0}{w_2}$$"
   ]
  },
  {
   "cell_type": "code",
   "execution_count": 5,
   "id": "d5f6d9fb",
   "metadata": {},
   "outputs": [
    {
     "name": "stdout",
     "output_type": "stream",
     "text": [
      "3.686491803006591 -4.087762294372146 4.1502238954659765\n"
     ]
    },
    {
     "data": {
      "image/png": "[encoded data removed]",
      "text/plain": [
       "<Figure size 640x480 with 1 Axes>"
      ]
     },
     "metadata": {},
     "output_type": "display_data"
    }
   ],
   "source": [
    "# Hiển thị\n",
    "def PLA_display(w):\n",
    "    plt.plot(X0.T[:, 0], X0.T[:, 1], 'b^', markersize=4)\n",
    "    plt.plot(X1.T[:, 0], X1.T[:, 1], 'ro', markersize=4)\n",
    "    w_0, w_1, w_2 = w[0][0], w[1][0], w[2][0]\n",
    "    print(w_0, w_1, w_2)\n",
    "    if w_2 != 0: \n",
    "        x_11, x_12 = 0, 5\n",
    "        plt.plot([x_11, x_12],[-(w_1*x_11 + w_0)/w_2, -(w_1*x_12 + w_0)/w_2])\n",
    "    else:\n",
    "        plt.plot([-w_0/w_1, -w_0/w_1], [x_11, x_12])\n",
    "    plt.show()\n",
    "PLA_display(w)"
   ]
  },
  {
   "cell_type": "markdown",
   "id": "50d4c479",
   "metadata": {},
   "source": [
    "# Dự đoán điểm thêm vào"
   ]
  },
  {
   "cell_type": "code",
   "execution_count": 6,
   "id": "db1e0de8",
   "metadata": {},
   "outputs": [
    {
     "name": "stdout",
     "output_type": "stream",
     "text": [
      "blue\n"
     ]
    }
   ],
   "source": [
    "A = np.array([1, 2, 2]).T\n",
    "if np.sign(np.dot(w.T, A)) == 1:\n",
    "    print('blue')\n",
    "else:\n",
    "    print('red')"
   ]
  },
  {
   "cell_type": "code",
   "execution_count": null,
   "id": "c6efd5d2",
   "metadata": {},
   "outputs": [],
   "source": []
  }
 ],
 "metadata": {
  "kernelspec": {
   "display_name": "Python 3 (ipykernel)",
   "language": "python",
   "name": "python3"
  },
  "language_info": {
   "codemirror_mode": {
    "name": "ipython",
    "version": 3
   },
   "file_extension": ".py",
   "mimetype": "text/x-python",
   "name": "python",
   "nbconvert_exporter": "python",
   "pygments_lexer": "ipython3",
   "version": "3.9.13"
  }
 },
 "nbformat": 4,
 "nbformat_minor": 5
}
