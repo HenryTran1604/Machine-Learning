{
 "cells": [
  {
   "cell_type": "markdown",
   "id": "eb2dae24",
   "metadata": {},
   "source": [
    "# import thư viện, tạo dữ liệu"
   ]
  },
  {
   "cell_type": "code",
   "execution_count": 1,
   "id": "355d096a",
   "metadata": {},
   "outputs": [],
   "source": [
    "import numpy as np\n",
    "import matplotlib.pyplot as plt\n",
    "np.random.seed(3)"
   ]
  },
  {
   "cell_type": "code",
   "execution_count": 2,
   "id": "202fec85",
   "metadata": {},
   "outputs": [
    {
     "data": {
      "text/plain": [
       "array([[1.  , 1.  , 1.  , 1.  , 1.  , 1.  , 1.  , 1.  , 1.  , 1.  , 1.  ,\n",
       "        1.  , 1.  , 1.  , 1.  , 1.  , 1.  , 1.  , 1.  , 1.  ],\n",
       "       [0.5 , 0.75, 1.  , 1.25, 1.5 , 1.75, 1.75, 2.  , 2.25, 2.5 , 2.75,\n",
       "        3.  , 3.25, 3.5 , 4.  , 4.25, 4.5 , 4.75, 5.  , 5.5 ]])"
      ]
     },
     "execution_count": 2,
     "metadata": {},
     "output_type": "execute_result"
    }
   ],
   "source": [
    "X = np.array([[0.50, 0.75, 1.00, 1.25, 1.50, 1.75, 1.75, 2.00, 2.25, 2.50, \n",
    "              2.75, 3.00, 3.25, 3.50, 4.00, 4.25, 4.50, 4.75, 5.00, 5.50]])\n",
    "y = np.array([0, 0, 0, 0, 0, 0, 1, 0, 1, 0, 1, 0, 1, 0, 1, 1, 1, 1, 1, 1])\n",
    "\n",
    "X = np.vstack((np.ones((1, X.shape[1])), X)) # mỗi cột là 1 điểm dữ liệu\n",
    "X"
   ]
  },
  {
   "cell_type": "markdown",
   "id": "5a6b1640",
   "metadata": {},
   "source": [
    "$$\\sigma(s) = \\frac{1}{1 + e^{-s}}$$"
   ]
  },
  {
   "cell_type": "code",
   "execution_count": 3,
   "id": "27a6653f",
   "metadata": {},
   "outputs": [],
   "source": [
    "def sigmoid(s): # hàm sigmoid\n",
    "    return 1/(1 + np.exp(-s))"
   ]
  },
  {
   "cell_type": "markdown",
   "id": "e859f36a",
   "metadata": {},
   "source": [
    "Hàm mất mát của logistic regression:\n",
    "$$ \\begin{eqnarray}\n",
    "J(\\mathbf{w}) = -\\log P(\\mathbf{y}|\\mathbf{X}; \\mathbf{w}) \\newline\n",
    "= -\\sum_{i=1}^N(y_i \\log {z}_i + (1-y_i) \\log (1 - {z}_i))\n",
    "\\end{eqnarray}$$ \n",
    "Đạo hàm $\\nabla$ của J\n",
    "$$\\frac{\\partial J(\\mathbf{w}; \\mathbf{x}_i, y_i)}{\\partial \\mathbf{w}} = (z_i - y_i)\\mathbf{x}_i$$\n",
    "$\\rightarrow$ Công thức cập nhật w:\n",
    "$$\\mathbf{w} = \\mathbf{w} + \\eta(y_i - z_i)\\mathbf{x}_i$$ \n",
    "với $z_i$ là hàm sigmoid: $z_i = f(w^Tx) = \\sigma(w^Tx) = \\frac{1}{1 + e^{-w^Tx}}$"
   ]
  },
  {
   "cell_type": "code",
   "execution_count": 4,
   "id": "031f5e4a",
   "metadata": {},
   "outputs": [],
   "source": [
    "def logistic_sigmoid_regression(X, y, w_init, eta, tol = 1e-4, max_count=10000):\n",
    "    w = [w_init]\n",
    "    d, N = X.shape\n",
    "    check_w_after, count = 20, 0\n",
    "    while count < max_count:\n",
    "        \n",
    "        mix_id = np.random.permutation(N)\n",
    "        for i in mix_id:\n",
    "            xi = X[:, i].reshape(d, 1) # vì dữ liệu ở dạng cột nên lấy cột thứ i\n",
    "                                    # ra thì cần đưa nó về dạng dx1\n",
    "            yi = y[i]\n",
    "            zi = sigmoid(np.dot(w[-1].T, xi))\n",
    "            w_new = w[-1] + eta*(yi - zi)*xi\n",
    "            count += 1\n",
    "            \n",
    "            if count % check_w_after == 0:\n",
    "                if np.linalg.norm(w_new - w[-check_w_after]) < tol:\n",
    "                    return w\n",
    "            w.append(w_new)\n",
    "    return w"
   ]
  },
  {
   "cell_type": "markdown",
   "id": "04c36dcf",
   "metadata": {},
   "source": [
    "thuật toán lặp tối đa 10000 lần,\n",
    "```\n",
    "if count % check_w_after == 0:\n",
    "                if np.linalg.norm(w_new - w[-check_w_after]) < tol:\n",
    "                    return w\n",
    "```\n",
    "Điều kiện dừng đầu tiên được kiểm tra sau mỗi `check_w_after` lần cập nhật trọng số. Cụ thể, ta tính khoảng cách Euclidean giữa trọng số mới nhất `w_new` và trọng số được cập nhật `check_w_after` lần trước đó `w[-check_w_after]` (với `w` là danh sách các trọng số đã được cập nhật). Nếu khoảng cách này nhỏ hơn ngưỡng `tol`, tức là các trọng số đã không thay đổi đáng kể trong khoảng `check_w_after` lần cập nhật, thuật toán sẽ dừng và trả về danh sách các trọng số đã học được."
   ]
  },
  {
   "cell_type": "code",
   "execution_count": 5,
   "id": "8719e792",
   "metadata": {},
   "outputs": [
    {
     "name": "stdout",
     "output_type": "stream",
     "text": [
      "[[-4.10544014]\n",
      " [ 1.50739974]]\n"
     ]
    }
   ],
   "source": [
    "eta = .05\n",
    "d = X.shape[0]\n",
    "w_init = np.random.randn(d, 1)\n",
    "w = logistic_sigmoid_regression(X, y, w_init, eta)\n",
    "print(w[-1])"
   ]
  },
  {
   "cell_type": "markdown",
   "id": "a1654bc5",
   "metadata": {},
   "source": [
    "điều này có nghĩa là $z_i = \\sigma(-4.1 + 1.5x) = \\frac{1}{1 + e^{-4.1 + 1.5x}}$"
   ]
  },
  {
   "cell_type": "code",
   "execution_count": 6,
   "id": "fea919b8",
   "metadata": {},
   "outputs": [
    {
     "name": "stdout",
     "output_type": "stream",
     "text": [
      "[[0.03383822 0.04857322 0.06926464 0.09786365 0.13653875 0.18732433\n",
      "  0.18732433 0.25149766 0.32876177 0.41655279 0.50997596 0.60270746\n",
      "  0.68860573 0.76322796 0.87260148 0.90896055 0.93570742 0.95498538\n",
      "  0.96867639 0.98500985]]\n"
     ]
    }
   ],
   "source": [
    "# In ra y_pred\n",
    "print(sigmoid(np.dot(w[-1].T, X)))"
   ]
  },
  {
   "cell_type": "code",
   "execution_count": 7,
   "id": "8d24aeaa",
   "metadata": {},
   "outputs": [],
   "source": [
    "# Vẽ đồ thị\n",
    "X0 = X[1, np.where(y == 0)][0]\n",
    "y0 = y[np.where(y == 0)]\n",
    "X1 = X[1, np.where(y == 1)][0]\n",
    "y1 = y[np.where(y == 1)]"
   ]
  },
  {
   "cell_type": "markdown",
   "id": "eecf3a75",
   "metadata": {},
   "source": [
    "`np.where(y == value)` trả về 1 mảng các chỉ số của mảng y sao cho giá trị tại điểm đó bằng 0 <br>\n",
    "`X[1, np.where(y == 0)]` trả về hàng thứ 1, với các dòng là các chỉ số của `np.where(y == value)`"
   ]
  },
  {
   "cell_type": "code",
   "execution_count": 8,
   "id": "07453c40",
   "metadata": {},
   "outputs": [
    {
     "data": {
      "image/png": "[encoded data removed]",
      "text/plain": [
       "<Figure size 640x480 with 1 Axes>"
      ]
     },
     "metadata": {},
     "output_type": "display_data"
    }
   ],
   "source": [
    "plt.plot(X0, y0, 'ro', markersize=8)\n",
    "plt.plot(X1, y1, 'bs', markersize=8)\n",
    "\n",
    "xx = np.linspace(0, 6, 1000)\n",
    "w0 = w[-1][0][0]\n",
    "w1 = w[-1][1][0]\n",
    "threshold = -w0/w1\n",
    "yy = sigmoid(w0 + w1*xx)\n",
    "plt.axis([-2, 8, -1, 2])\n",
    "\n",
    "plt.plot(xx, yy, 'g-', linewidth=3)\n",
    "plt.plot(threshold, .5, 'y^', markersize=8)\n",
    "plt.ylabel('probality of pass')\n",
    "plt.xlabel('study hours')\n",
    "plt.show()"
   ]
  },
  {
   "cell_type": "code",
   "execution_count": 9,
   "id": "f6eaa499",
   "metadata": {},
   "outputs": [
    {
     "data": {
      "text/plain": [
       "array([[0.60270746, 0.87260148, 0.06926464, 0.25149766, 0.60270746,\n",
       "        0.99998277]])"
      ]
     },
     "execution_count": 9,
     "metadata": {},
     "output_type": "execute_result"
    }
   ],
   "source": [
    "# dự đoán điểm\n",
    "X_test = np.array([[3, 4, 1, 2, 3, 10]])\n",
    "X_test = np.vstack((np.ones((1, X_test.shape[1])), X_test))\n",
    "y_pred = sigmoid(np.dot(w[-1].T, X_test))\n",
    "y_pred"
   ]
  },
  {
   "cell_type": "code",
   "execution_count": 10,
   "id": "3e0e4f41",
   "metadata": {},
   "outputs": [
    {
     "name": "stdout",
     "output_type": "stream",
     "text": [
      "study 3.0 pass\n",
      "study 4.0 pass\n",
      "study 1.0 fail\n",
      "study 2.0 fail\n",
      "study 3.0 pass\n",
      "study 10.0 pass\n"
     ]
    }
   ],
   "source": [
    "for i in range(X_test.shape[1]):\n",
    "    print('study', X_test[1][i], end='')\n",
    "    if y_pred[0][i] >= 0.5:\n",
    "        print(' pass')\n",
    "    else: print(' fail')"
   ]
  },
  {
   "cell_type": "markdown",
   "id": "74ab6880",
   "metadata": {},
   "source": [
    "# Sử dụng thư viện scikit-learn\n",
    "Trong sklearn, mỗi dữ liệu yêu cầu là 1 dòng <br>\n",
    "`fit_intercept=False` nếu bạn đã thêm cột 1 <br>\n",
    "`fit_intercept=True` nếu bạn chưa thêm cột 1"
   ]
  },
  {
   "cell_type": "code",
   "execution_count": 11,
   "id": "27e197e6",
   "metadata": {},
   "outputs": [],
   "source": [
    "from sklearn.linear_model import LogisticRegression"
   ]
  },
  {
   "cell_type": "code",
   "execution_count": 12,
   "id": "b5bf0f70",
   "metadata": {},
   "outputs": [
    {
     "name": "stdout",
     "output_type": "stream",
     "text": [
      "(20, 1) (20,)\n",
      "[0]\n"
     ]
    }
   ],
   "source": [
    "X1 = np.array([[0.50, 0.75, 1.00, 1.25, 1.50, 1.75, 1.75, 2.00, 2.25, 2.50, \n",
    "              2.75, 3.00, 3.25, 3.50, 4.00, 4.25, 4.50, 4.75, 5.00, 5.50]]).T\n",
    "y1 = np.array([0, 0, 0, 0, 0, 0, 1, 0, 1, 0, 1, 0, 1, 0, 1, 1, 1, 1, 1, 1])\n",
    "print(X1.shape, y1.shape)\n",
    "logistic = LogisticRegression()\n",
    "logistic.fit(X1, y1)\n",
    "print(logistic.predict(np.array([[2]])))"
   ]
  },
  {
   "cell_type": "markdown",
   "id": "e251748d",
   "metadata": {},
   "source": [
    "Việc thêm cột 1 để dùng trong `sklearn.linear_model` chỉ được khi dữ liệu gốc ban đầu có từ 2 features (2 cột) trở lên, nếu không sẽ gây lỗi"
   ]
  },
  {
   "cell_type": "code",
   "execution_count": 24,
   "id": "ad5c1305",
   "metadata": {},
   "outputs": [
    {
     "name": "stdout",
     "output_type": "stream",
     "text": [
      "[[0.06829515 0.29373866 0.34441826]\n",
      " [0.03420923 0.2064702  0.18780166]\n",
      " [0.18225294 0.65483642 0.54627612]\n",
      " [0.18208242 0.18877449 0.31782257]\n",
      " [0.01145511 0.30276609 0.65681127]]\n"
     ]
    },
    {
     "data": {
      "text/plain": [
       "array([1])"
      ]
     },
     "execution_count": 24,
     "metadata": {},
     "output_type": "execute_result"
    }
   ],
   "source": [
    "x_dat = np.random.rand(5, 3)\n",
    "y = np.random.randint(0, 2, size=5)\n",
    "x_new = np.hstack((np.ones((x_dat.shape[0], 1)), x_dat))\n",
    "model = LogisticRegression(fit_intercept=True) # đã thêm cột 1\n",
    "print(x_dat)\n",
    "model.fit(x_new, y_dat)\n",
    "model.predict(np.array([[1, 2, 2, 1]]))"
   ]
  },
  {
   "cell_type": "code",
   "execution_count": 17,
   "id": "0dc072ac",
   "metadata": {},
   "outputs": [
    {
     "name": "stdout",
     "output_type": "stream",
     "text": [
      "(5, 3)\n",
      "(5, 4)\n"
     ]
    },
    {
     "data": {
      "text/plain": [
       "LogisticRegression()"
      ]
     },
     "execution_count": 17,
     "metadata": {},
     "output_type": "execute_result"
    }
   ],
   "source": [
    "import numpy as np\n",
    "from sklearn.linear_model import LogisticRegression\n",
    "\n",
    "X = np.random.rand(5, 3)\n",
    "y = np.random.randint(0, 2, size=5)\n",
    "print(X.shape)\n",
    "X_new = np.hstack((np.ones((X.shape[0], 1)), X))\n",
    "print(X_new.shape)\n",
    "clf = LogisticRegression(fit_intercept=True)\n",
    "\n",
    "clf.fit(X_new, y)\n",
    "\n",
    "\n",
    "\n"
   ]
  },
  {
   "cell_type": "code",
   "execution_count": null,
   "id": "ec5313af",
   "metadata": {},
   "outputs": [],
   "source": []
  }
 ],
 "metadata": {
  "kernelspec": {
   "display_name": "Python 3 (ipykernel)",
   "language": "python",
   "name": "python3"
  },
  "language_info": {
   "codemirror_mode": {
    "name": "ipython",
    "version": 3
   },
   "file_extension": ".py",
   "mimetype": "text/x-python",
   "name": "python",
   "nbconvert_exporter": "python",
   "pygments_lexer": "ipython3",
   "version": "3.9.13"
  }
 },
 "nbformat": 4,
 "nbformat_minor": 5
}
