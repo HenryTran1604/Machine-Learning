{
 "cells": [
  {
   "cell_type": "code",
   "execution_count": 1,
   "id": "df8718b9",
   "metadata": {},
   "outputs": [],
   "source": [
    "import numpy as np \n",
    "from mnist import MNIST\n",
    "import matplotlib.pyplot as plt\n",
    "from sklearn import linear_model\n",
    "from sklearn.metrics import accuracy_score\n",
    "from display_network import *\n",
    "np.random.seed(1)"
   ]
  },
  {
   "cell_type": "code",
   "execution_count": 2,
   "id": "74f1dc99",
   "metadata": {},
   "outputs": [],
   "source": [
    "\n",
    "mntrain = MNIST('../Database/MNIST/') #đường dẫn đến folder Mnist\n",
    "mntrain.load_training() # lấy dữ liệu training\n",
    "Xtrain_all = np.asarray(mntrain.train_images) # đưa các ảnh về dạng np.array\n",
    "ytrain_all = np.array(mntrain.train_labels.tolist()) # lấy các nhãn thực tế của từng ảnh\n",
    "\n",
    "mntest = MNIST('../Database/MNIST/')\n",
    "mntest.load_testing() # lấy dữ liệu testing\n",
    "Xtest_all = np.asarray(mntest.test_images) # đưa các ảnh test về dạng np.array\n",
    "ytest_all = np.array(mntest.test_labels.tolist()) # lấy nhãn test của từng ảnh"
   ]
  },
  {
   "cell_type": "code",
   "execution_count": 3,
   "id": "9392e243",
   "metadata": {},
   "outputs": [],
   "source": [
    "cls = [[4], [5]] # mỗi ảnh sẽ có 1 label, chúng ta muốn phân loại nhóm nào thì đưa nó vào đây (2 loại)"
   ]
  },
  {
   "cell_type": "code",
   "execution_count": 4,
   "id": "cf31229b",
   "metadata": {},
   "outputs": [
    {
     "name": "stdout",
     "output_type": "stream",
     "text": [
      "float64\n",
      "float64\n"
     ]
    }
   ],
   "source": [
    "def extract_data(X, y, classes): # giải nén và chuẩn hóa\n",
    "    \"\"\"\n",
    "    X: numpy array, matrix of size (N, d), d is data dim\n",
    "    y: numpy array, size (N, )\n",
    "    cls: two lists of labels. For example: \n",
    "        cls = [[1, 4, 7], [5, 6, 8]]\n",
    "    return:\n",
    "        X: extracted data\n",
    "        y: extracted label \n",
    "            (0 and 1, corresponding to two lists in cls)\n",
    "    \"\"\"\n",
    "    y_res_id = np.array([]) # mảng tạm thời \n",
    "    for i in cls[0]: # với các số thuộc nhóm đầu tiên ví dụ cls=[[1, 2], [3, 4]] thì 1 2 sẽ cùng 1 nhóm\n",
    "        y_res_id = np.hstack((y_res_id, np.where(y == i)[0])) # nối thêm các label thuộc cùng 1 nhóm vào đằng sau y_res_id\n",
    "    n0 = len(y_res_id) # lấy số lượng các nhãn nhóm 1\n",
    "\n",
    "    for i in cls[1]: # với các số thuộc nhóm thứ 2 ví dụ cls=[[1, 2], [3, 4]] thì 3 4 sẽ cùng 1 nhóm\n",
    "        y_res_id = np.hstack((y_res_id, np.where(y == i)[0])) # nối thêm các label thuộc cùng 1 nhóm vào đằng sau y_res_id\n",
    "    n1 = len(y_res_id) - n0  # số lượng các nhãn nhóm 2 sẽ bằng tổng trừ đi nhãn nhóm 1\n",
    "    print(y_res_id.dtype)\n",
    "    y_res_id = y_res_id.astype(int) # đưa các nhãn từ float64 về dạng int\n",
    "    X_res = X[y_res_id, :]/255.0 # y_res_id là 1 mảng các phần tử nên X[y_res_id, :] sẽ lấy các dòng có chỉ số \n",
    "                                 #tương ứng với giá trị của y_res_id, chuẩn hóa về [0, 1]\n",
    "    y_res = np.asarray([0]*n0 + [1]*n1) # gán nhãn cho các dòng của X_res, gán nhãn 0 1 vì logistic regression\n",
    "    return (X_res, y_res)\n",
    "\n",
    "\n",
    "# extract data for training \n",
    "(X_train, y_train) = extract_data(Xtrain_all, ytrain_all, cls)\n",
    "\n",
    "# extract data for test \n",
    "(X_test, y_test) = extract_data(Xtest_all, ytest_all, cls)"
   ]
  },
  {
   "cell_type": "markdown",
   "id": "7c8d919a",
   "metadata": {},
   "source": [
    "Hàm `np.where(y==value)` trả về 1 tuple có dạng `(array([   2,    5,   14, ..., 9978, 9984, 9994], dtype=int64),)`, vì vậy muốn lấy các chỉ số thì cần lấy phần tử đầu tiên của tuple tức là `np.where(y==value)[0]`"
   ]
  },
  {
   "cell_type": "code",
   "execution_count": 5,
   "id": "32978ffa",
   "metadata": {},
   "outputs": [
    {
     "name": "stdout",
     "output_type": "stream",
     "text": [
      "Accuracy: 98.72 %\n"
     ]
    },
    {
     "name": "stderr",
     "output_type": "stream",
     "text": [
      "C:\\Users\\Quang Huy\\anaconda3\\lib\\site-packages\\sklearn\\linear_model\\_logistic.py:814: ConvergenceWarning: lbfgs failed to converge (status=1):\n",
      "STOP: TOTAL NO. of ITERATIONS REACHED LIMIT.\n",
      "\n",
      "Increase the number of iterations (max_iter) or scale the data as shown in:\n",
      "    https://scikit-learn.org/stable/modules/preprocessing.html\n",
      "Please also refer to the documentation for alternative solver options:\n",
      "    https://scikit-learn.org/stable/modules/linear_model.html#logistic-regression\n",
      "  n_iter_i = _check_optimize_result(\n"
     ]
    }
   ],
   "source": [
    "# train the logistic regression model \n",
    "logreg = linear_model.LogisticRegression(C=1e5) # just a big number \n",
    "logreg.fit(X_train, y_train)\n",
    "\n",
    "# predict \n",
    "y_pred = logreg.predict(X_test)\n",
    "print (\"Accuracy: %.2f %%\" %(100*accuracy_score(y_test, y_pred)))"
   ]
  },
  {
   "cell_type": "code",
   "execution_count": 6,
   "id": "2896ad34",
   "metadata": {},
   "outputs": [
    {
     "data": {
      "image/png": "[encoded data removed]",
      "text/plain": [
       "<Figure size 640x480 with 1 Axes>"
      ]
     },
     "metadata": {},
     "output_type": "display_data"
    }
   ],
   "source": [
    "# display misclassified image(s)\n",
    "mis = np.where((y_pred - y_test) != 0)[0]\n",
    "Xmis = X_test[mis, :]\n",
    "\n",
    "plt.axis('off')\n",
    "A = display_network(Xmis.T, Xmis.shape[0], 1)\n",
    "f2 = plt.imshow(A, interpolation='nearest' )\n",
    "plt.gray()\n",
    "plt.show()"
   ]
  },
  {
   "cell_type": "code",
   "execution_count": 7,
   "id": "f512a4b9",
   "metadata": {},
   "outputs": [
    {
     "name": "stdout",
     "output_type": "stream",
     "text": [
      "(array([   2,    5,   14, ..., 9978, 9984, 9994], dtype=int64),)\n"
     ]
    }
   ],
   "source": [
    "print(np.where(ytest_all == 1))"
   ]
  },
  {
   "cell_type": "code",
   "execution_count": null,
   "id": "c4670e99",
   "metadata": {},
   "outputs": [],
   "source": []
  }
 ],
 "metadata": {
  "kernelspec": {
   "display_name": "Python 3 (ipykernel)",
   "language": "python",
   "name": "python3"
  },
  "language_info": {
   "codemirror_mode": {
    "name": "ipython",
    "version": 3
   },
   "file_extension": ".py",
   "mimetype": "text/x-python",
   "name": "python",
   "nbconvert_exporter": "python",
   "pygments_lexer": "ipython3",
   "version": "3.9.13"
  }
 },
 "nbformat": 4,
 "nbformat_minor": 5
}
