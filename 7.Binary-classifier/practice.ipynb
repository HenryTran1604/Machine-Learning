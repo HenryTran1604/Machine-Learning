{
 "cells": [
  {
   "cell_type": "code",
   "execution_count": 1,
   "id": "648af30b",
   "metadata": {},
   "outputs": [],
   "source": [
    "import numpy as np\n",
    "from sklearn.linear_model import LogisticRegression\n",
    "from sklearn.metrics import accuracy_score\n",
    "from mnist import MNIST"
   ]
  },
  {
   "cell_type": "code",
   "execution_count": 2,
   "id": "59f0222f",
   "metadata": {},
   "outputs": [],
   "source": [
    "# load data\n",
    "mntrain = MNIST('MNIST/')\n",
    "mntrain.load_training()\n",
    "xtrain_all = np.array(mntrain.train_images)\n",
    "ytrain_all = np.array(mntrain.train_labels)\n",
    "\n",
    "mntest = MNIST('MNIST/')\n",
    "mntest.load_testing()\n",
    "xtest_all = np.array(mntest.test_images)\n",
    "ytest_all = np.array(mntest.test_labels)"
   ]
  },
  {
   "cell_type": "code",
   "execution_count": 3,
   "id": "ce702092",
   "metadata": {},
   "outputs": [],
   "source": [
    "def extract_data(X, y, cls):\n",
    "    y_res_id = np.array([])\n",
    "    for i in cls[0]:\n",
    "        y_res_id = np.hstack((y_res_id, np.where(y==i)[0]))\n",
    "    n0 = len(y_res_id)\n",
    "    for i in cls[1]:\n",
    "        y_res_id = np.hstack((y_res_id, np.where(y==i)[0]))\n",
    "    n1 = len(y_res_id) - n0\n",
    "    y_res_id = y_res_id.astype(int)\n",
    "    X_res = X[y_res_id, :]/255.5\n",
    "    y_res = np.asarray([0]*n0 + [1]*n1)\n",
    "    return (X_res, y_res)"
   ]
  },
  {
   "cell_type": "code",
   "execution_count": 4,
   "id": "a770fcd8",
   "metadata": {},
   "outputs": [],
   "source": [
    "X_train, y_train = extract_data(xtrain_all, ytrain_all, [[8], [9]])\n",
    "X_test, y_test = extract_data(xtest_all, ytest_all, [[8], [9]])"
   ]
  },
  {
   "cell_type": "code",
   "execution_count": 5,
   "id": "baaa92e8",
   "metadata": {},
   "outputs": [
    {
     "name": "stdout",
     "output_type": "stream",
     "text": [
      "98.03328290468987\n"
     ]
    },
    {
     "name": "stderr",
     "output_type": "stream",
     "text": [
      "C:\\Users\\Quang Huy\\anaconda3\\lib\\site-packages\\sklearn\\linear_model\\_logistic.py:814: ConvergenceWarning: lbfgs failed to converge (status=1):\n",
      "STOP: TOTAL NO. of ITERATIONS REACHED LIMIT.\n",
      "\n",
      "Increase the number of iterations (max_iter) or scale the data as shown in:\n",
      "    https://scikit-learn.org/stable/modules/preprocessing.html\n",
      "Please also refer to the documentation for alternative solver options:\n",
      "    https://scikit-learn.org/stable/modules/linear_model.html#logistic-regression\n",
      "  n_iter_i = _check_optimize_result(\n"
     ]
    }
   ],
   "source": [
    "model = LogisticRegression()\n",
    "model.fit(X_train, y_train)\n",
    "y_pred = model.predict(X_test)\n",
    "print(100*accuracy_score(y_test, y_pred))"
   ]
  },
  {
   "cell_type": "code",
   "execution_count": 12,
   "id": "770b67ed",
   "metadata": {},
   "outputs": [
    {
     "data": {
      "image/png": "[encoded data removed]",
      "text/plain": [
       "<Figure size 640x480 with 1 Axes>"
      ]
     },
     "metadata": {},
     "output_type": "display_data"
    }
   ],
   "source": [
    "import matplotlib.pyplot as plt\n",
    "from display_network import *\n",
    "id_mis = np.where(y_pred != y_test)[0]\n",
    "Xmis = X_train[id_mis, :]\n",
    "plt.axis('off')\n",
    "A = display_network(Xmis.T, Xmis.shape[0], 1)\n",
    "f = plt.imshow(A, interpolation='nearest')\n",
    "plt.show()"
   ]
  },
  {
   "cell_type": "code",
   "execution_count": null,
   "id": "7297839e",
   "metadata": {},
   "outputs": [],
   "source": []
  }
 ],
 "metadata": {
  "kernelspec": {
   "display_name": "Python 3 (ipykernel)",
   "language": "python",
   "name": "python3"
  },
  "language_info": {
   "codemirror_mode": {
    "name": "ipython",
    "version": 3
   },
   "file_extension": ".py",
   "mimetype": "text/x-python",
   "name": "python",
   "nbconvert_exporter": "python",
   "pygments_lexer": "ipython3",
   "version": "3.9.13"
  }
 },
 "nbformat": 4,
 "nbformat_minor": 5
}
