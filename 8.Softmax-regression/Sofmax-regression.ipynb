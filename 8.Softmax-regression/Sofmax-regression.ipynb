{
 "cells": [
  {
   "cell_type": "markdown",
   "id": "a410dc71",
   "metadata": {},
   "source": [
    "# Hàm sofmax\n",
    "$$a_i = \\frac{\\exp(z_i)}{\\sum_{j=1}^C \\exp(z_j)}, ~~ \\forall i = 1, 2, \\dots, C$$"
   ]
  },
  {
   "cell_type": "code",
   "execution_count": 1,
   "id": "1e6516ea",
   "metadata": {},
   "outputs": [],
   "source": [
    "import numpy as np\n",
    "def softmax(Z):\n",
    "    e_Z = np.exp(Z)\n",
    "    A = e_Z / np.sum(e_Z)\n",
    "    return A"
   ]
  },
  {
   "cell_type": "code",
   "execution_count": 2,
   "id": "49d34120",
   "metadata": {},
   "outputs": [
    {
     "name": "stdout",
     "output_type": "stream",
     "text": [
      "[[0.02730045 0.07421031 0.07421031]\n",
      " [0.20172453 0.54834411 0.07421031]]\n"
     ]
    }
   ],
   "source": [
    "print(softmax(np.array([[1, 2, 2], [3 ,4, 2]])))"
   ]
  },
  {
   "cell_type": "markdown",
   "id": "e4c04c88",
   "metadata": {},
   "source": [
    "Dễ thấy trong hàm `softmax()` có tham số `Z` là 1 `np.array` đại diện cho `z_i = w_i^T.x` <br/>\n",
    "Tuy nhiên với các phần tử lớn, có thể xảy ra tình trạng tràn số (overflow), vì vậy có cách để giảm số mũ z_i đi"
   ]
  },
  {
   "cell_type": "markdown",
   "id": "d32f47e5",
   "metadata": {},
   "source": [
    "$$\\begin{eqnarray}\n",
    "\\frac{\\exp(z_i)}{\\sum_{j=1}^C \\exp(z_j)} &=& \\frac{\\exp(-c)\\exp(z_i)}{\\exp(-c)\\sum_{j=1}^C \\exp(z_j)}\\newline\n",
    "&=& \\frac{\\exp(z_i-c)}{\\sum_{j=1}^C \\exp(z_j-c)}\n",
    "\\end{eqnarray}$$\n",
    "Trong đó, giá trị c thường được chọn là $c = \\max_i z_i$"
   ]
  },
  {
   "cell_type": "code",
   "execution_count": 3,
   "id": "6323f7f1",
   "metadata": {},
   "outputs": [],
   "source": [
    "def stable_softmax(Z):\n",
    "    print(np.max(Z))\n",
    "    e_Z = np.exp(Z - np.max(Z, axis = 0, keepdims=True))\n",
    "    A = e_Z / np.sum(e_Z, axis=0)\n",
    "    return A"
   ]
  },
  {
   "cell_type": "code",
   "execution_count": 4,
   "id": "2ad6b1bc",
   "metadata": {},
   "outputs": [
    {
     "name": "stdout",
     "output_type": "stream",
     "text": [
      "4\n",
      "[[0.11920292 0.11920292 0.5       ]\n",
      " [0.88079708 0.88079708 0.5       ]]\n"
     ]
    }
   ],
   "source": [
    "print(stable_softmax(np.array([[1, 2, 2], [3 ,4, 2]])))"
   ]
  },
  {
   "cell_type": "code",
   "execution_count": null,
   "id": "f2b4e1d4",
   "metadata": {},
   "outputs": [],
   "source": []
  }
 ],
 "metadata": {
  "kernelspec": {
   "display_name": "Python 3 (ipykernel)",
   "language": "python",
   "name": "python3"
  },
  "language_info": {
   "codemirror_mode": {
    "name": "ipython",
    "version": 3
   },
   "file_extension": ".py",
   "mimetype": "text/x-python",
   "name": "python",
   "nbconvert_exporter": "python",
   "pygments_lexer": "ipython3",
   "version": "3.9.13"
  }
 },
 "nbformat": 4,
 "nbformat_minor": 5
}
