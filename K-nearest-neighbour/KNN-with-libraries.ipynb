{
 "cells": [
  {
   "cell_type": "code",
   "execution_count": 1,
   "id": "d8a8b052",
   "metadata": {},
   "outputs": [],
   "source": [
    "import numpy as np\n",
    "import matplotlib.pyplot as plt\n",
    "from sklearn import datasets, neighbors"
   ]
  },
  {
   "cell_type": "markdown",
   "id": "12ab5abe",
   "metadata": {},
   "source": [
    "**Iris flower dataset** là một bộ dữ liệu nhỏ (nhỏ hơn rất nhiều so với MNIST. Bộ dữ liệu này bao gồm thông tin của ba loại hoa Iris (một loài hoa lan) khác nhau: Iris setosa, Iris virginica và Iris versicolor. Mỗi loại có 50 bông hoa được đo với dữ liệu là 4 thông tin: **chiều dài, chiều rộng đài hoa (sepal), và chiều dài, chiều rộng cánh hoa (petal)**. Dưới đây là ví dụ về hình ảnh của ba loại hoa. (Chú ý, đây không phải là bộ cơ sở dữ liệu ảnh như MNIST, mỗi điểm dữ liệu trong tập này chỉ là một vector 4 chiều).\n"
   ]
  },
  {
   "cell_type": "code",
   "execution_count": 2,
   "id": "d2bd0426",
   "metadata": {},
   "outputs": [
    {
     "name": "stdout",
     "output_type": "stream",
     "text": [
      "Số lượng nhãn được gán cho các hoa  3\n",
      "[0 1 2]\n",
      "Số lượng dữ liệu  150\n"
     ]
    }
   ],
   "source": [
    "iris = datasets.load_iris()\n",
    "iris_X = iris.data\n",
    "iris_y = iris.target\n",
    "print('Số lượng nhãn được gán cho các hoa ', len(np.unique(iris_y)))\n",
    "print(np.unique(iris_y))\n",
    "print('Số lượng dữ liệu ', len(iris_y))"
   ]
  },
  {
   "cell_type": "code",
   "execution_count": 3,
   "id": "4ff5f55d",
   "metadata": {},
   "outputs": [
    {
     "name": "stdout",
     "output_type": "stream",
     "text": [
      "Ví dụ về mẫu hoa được gán nhãn 0\n",
      " [[5.1 3.5 1.4 0.2]\n",
      " [4.9 3.  1.4 0.2]\n",
      " [4.7 3.2 1.3 0.2]\n",
      " [4.6 3.1 1.5 0.2]\n",
      " [5.  3.6 1.4 0.2]]\n",
      "Ví dụ về mẫu hoa được gán nhãn 1\n",
      " [[7.  3.2 4.7 1.4]\n",
      " [6.4 3.2 4.5 1.5]\n",
      " [6.9 3.1 4.9 1.5]\n",
      " [5.5 2.3 4.  1.3]\n",
      " [6.5 2.8 4.6 1.5]]\n",
      "Ví dụ về mẫu hoa được gán nhãn 2\n",
      " [[6.3 3.3 6.  2.5]\n",
      " [5.8 2.7 5.1 1.9]\n",
      " [7.1 3.  5.9 2.1]\n",
      " [6.3 2.9 5.6 1.8]\n",
      " [6.5 3.  5.8 2.2]]\n"
     ]
    }
   ],
   "source": [
    "X0 = iris_X[iris_y==0, :]\n",
    "print('Ví dụ về mẫu hoa được gán nhãn 0\\n', X0[:5, :])\n",
    "X1 = iris_X[iris_y==1, :]\n",
    "print('Ví dụ về mẫu hoa được gán nhãn 1\\n', X1[:5, :])\n",
    "X2 = iris_X[iris_y==2, :]\n",
    "print('Ví dụ về mẫu hoa được gán nhãn 2\\n', X2[:5, :])\n"
   ]
  },
  {
   "cell_type": "code",
   "execution_count": 4,
   "id": "a06a0f64",
   "metadata": {},
   "outputs": [
    {
     "name": "stdout",
     "output_type": "stream",
     "text": [
      "Kích thước data train:  100\n",
      "Kích thước data test:  50\n"
     ]
    }
   ],
   "source": [
    "from sklearn.model_selection import train_test_split\n",
    "X_train, X_test, y_train, y_test = train_test_split(iris_X, iris_y, test_size=50)\n",
    "print('Kích thước data train: ', len(X_train))\n",
    "print('Kích thước data test: ', len(X_test))"
   ]
  },
  {
   "cell_type": "markdown",
   "id": "9ff1cf22",
   "metadata": {},
   "source": [
    "## Chọn 1 điểm"
   ]
  },
  {
   "cell_type": "code",
   "execution_count": 5,
   "id": "04e862b5",
   "metadata": {},
   "outputs": [
    {
     "name": "stdout",
     "output_type": "stream",
     "text": [
      "Kết quả test 20 điểm: \n",
      "Dự đoán:   [2 0 2 1 1 0 0 1 2 2 0 0 2 1 1 0 0 2 2 0]\n",
      "Thực thế:  [2 0 2 1 1 0 0 1 2 2 0 0 2 1 1 0 0 2 2 0]\n",
      "Accurancy of 1NN:  0.96\n"
     ]
    },
    {
     "name": "stderr",
     "output_type": "stream",
     "text": [
      "C:\\Users\\Quang Huy\\anaconda3\\lib\\site-packages\\sklearn\\neighbors\\_classification.py:228: FutureWarning: Unlike other reduction functions (e.g. `skew`, `kurtosis`), the default behavior of `mode` typically preserves the axis it acts along. In SciPy 1.11.0, this behavior will change: the default value of `keepdims` will become False, the `axis` over which the statistic is taken will be eliminated, and the value None will no longer be accepted. Set `keepdims` to True or False to avoid this warning.\n",
      "  mode, _ = stats.mode(_y[neigh_ind, k], axis=1)\n"
     ]
    }
   ],
   "source": [
    "clf = neighbors.KNeighborsClassifier(n_neighbors=1, p=2) # chỉ chọn 1 điểm xung quanh để xét\n",
    "clf.fit(X_train, y_train)\n",
    "y_pred = clf.predict(X_test)\n",
    "print('Kết quả test 20 điểm: ')\n",
    "print('Dự đoán:  ' , y_pred[20:40])\n",
    "print('Thực thế: ' , y_test[20:40])\n",
    "# Đánh giá kết quả\n",
    "from sklearn.metrics import accuracy_score\n",
    "print('Accurancy of 1NN: ', accuracy_score(y_test, y_pred))"
   ]
  },
  {
   "cell_type": "markdown",
   "id": "72d2471a",
   "metadata": {},
   "source": [
    "`clf = neighbors.KNeighborsClassifier(n_neighbors=, p=)`\n",
    "Trong đó:\n",
    "- n_neighbors: là số điểm muốn đã train muốn xét để kết luận điểm mới\n",
    "- p\n",
    "    - nếu p = 0 thì dùng khoảng cách Hamming: được tính bằng cách đếm số lượng thành phần khác nhau giữa hai vector đó.\n",
    "    - nếu p = 1 thì dùng khoảng cách Manhattan\n",
    "    - nếu p = 2 thì dùng khoảng cách Euclid <br>\n",
    "- Khoảng cách Euclid:\n",
    "$$d_{\\text{Euclid}}(\\boldsymbol{x}_i, \\boldsymbol{x}_j) = \\sqrt{\\sum_{k=1}^{m} (x_{ik} - x_{jk})^2}$$\n",
    "\n",
    "- Khoảng cách Manhattan:\n",
    "$$d_{\\text{Manhattan}}(\\boldsymbol{x}_i, \\boldsymbol{x}_j) = \\sum_{k=1}^{m} |x_{ik} - x_{jk}|$$\n",
    "\n",
    "- Khoảng cách Chebyshev:\n",
    "$$d_{\\text{Chebyshev}}(\\boldsymbol{x}_i, \\boldsymbol{x}_j) = \\max_{k=1}^{m} |x_{ik} - x_{jk}|$$\n",
    "Trong các công thức trên, $\\boldsymbol{x}_i$ và $\\boldsymbol{x}_j$ là hai điểm dữ liệu cần tính khoảng cách, $m$ là số chiều của vector đặc trưng (số lượng thuộc tính của mỗi điểm dữ liệu), và $x_{ik}$ và $x_{jk}$ lần lượt là giá trị của thuộc tính thứ $k$ của hai điểm dữ liệu $\\boldsymbol{x}_i$ và $\\boldsymbol{x}_j$."
   ]
  },
  {
   "cell_type": "markdown",
   "id": "0389a23c",
   "metadata": {},
   "source": [
    "## Chọn 10 điểm"
   ]
  },
  {
   "cell_type": "code",
   "execution_count": 6,
   "id": "fd2acc6d",
   "metadata": {},
   "outputs": [
    {
     "name": "stdout",
     "output_type": "stream",
     "text": [
      "Kết quả test 20 điểm: \n",
      "Dự đoán  : [2 0 2 1 1 0 0 1 2 2 0 0 2 1 1 0 0 2 2 0]\n",
      "Thực tế  : [2 0 2 1 1 0 0 1 2 2 0 0 2 1 1 0 0 2 2 0]\n",
      "accuracy of 10NN:  0.98\n"
     ]
    },
    {
     "name": "stderr",
     "output_type": "stream",
     "text": [
      "C:\\Users\\Quang Huy\\anaconda3\\lib\\site-packages\\sklearn\\neighbors\\_classification.py:228: FutureWarning: Unlike other reduction functions (e.g. `skew`, `kurtosis`), the default behavior of `mode` typically preserves the axis it acts along. In SciPy 1.11.0, this behavior will change: the default value of `keepdims` will become False, the `axis` over which the statistic is taken will be eliminated, and the value None will no longer be accepted. Set `keepdims` to True or False to avoid this warning.\n",
      "  mode, _ = stats.mode(_y[neigh_ind, k], axis=1)\n"
     ]
    }
   ],
   "source": [
    "# chọn 10 điểm\n",
    "clf = neighbors.KNeighborsClassifier(n_neighbors=10, p=2)\n",
    "clf.fit(X_train, y_train)\n",
    "y_pred = clf.predict(X_test)\n",
    "print('Kết quả test 20 điểm: ')\n",
    "print('Dự đoán  :', y_pred[20:40])\n",
    "print('Thực tế  :', y_test[20:40])\n",
    "# Đánh giá\n",
    "from sklearn.metrics import accuracy_score\n",
    "print('accuracy of 10NN: ', accuracy_score(y_test, y_pred))"
   ]
  },
  {
   "cell_type": "code",
   "execution_count": 13,
   "id": "a9daa193",
   "metadata": {},
   "outputs": [
    {
     "name": "stdout",
     "output_type": "stream",
     "text": [
      "Kết quả test 20 điểm: \n",
      "Dự đoán  : [2 0 2 1 1 0 0 1 2 2 0 0 2 1 1 0 0 2 2 0]\n",
      "Thực tế  : [2 0 2 1 1 0 0 1 2 2 0 0 2 1 1 0 0 2 2 0]\n",
      "accuracy of 10NN:  0.96\n"
     ]
    }
   ],
   "source": [
    "# sử dụng thêm trọng số, điểm nào càng gần thì trọng số càng cao\n",
    "clf = neighbors.KNeighborsClassifier(n_neighbors=10, p=2, weights=\"distance\") # mặc định là uniform\n",
    "clf.fit(X_train, y_train)\n",
    "y_pred = clf.predict(X_test)\n",
    "print('Kết quả test 20 điểm: ')\n",
    "print('Dự đoán  :', y_pred[20:40])\n",
    "print('Thực tế  :', y_test[20:40])\n",
    "# Đánh giá\n",
    "from sklearn.metrics import accuracy_score\n",
    "print('accuracy of 10NN: ', accuracy_score(y_test, y_pred))"
   ]
  },
  {
   "cell_type": "code",
   "execution_count": null,
   "id": "2f3a08b2",
   "metadata": {},
   "outputs": [],
   "source": []
  }
 ],
 "metadata": {
  "kernelspec": {
   "display_name": "Python 3 (ipykernel)",
   "language": "python",
   "name": "python3"
  },
  "language_info": {
   "codemirror_mode": {
    "name": "ipython",
    "version": 3
   },
   "file_extension": ".py",
   "mimetype": "text/x-python",
   "name": "python",
   "nbconvert_exporter": "python",
   "pygments_lexer": "ipython3",
   "version": "3.9.13"
  }
 },
 "nbformat": 4,
 "nbformat_minor": 5
}
